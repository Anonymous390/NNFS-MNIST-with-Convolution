{
  "nbformat": 4,
  "nbformat_minor": 0,
  "metadata": {
    "colab": {
      "provenance": [],
      "authorship_tag": "ABX9TyMWJW6628uFhBTTAGx48H/Q",
      "include_colab_link": true
    },
    "kernelspec": {
      "name": "python3",
      "display_name": "Python 3"
    },
    "language_info": {
      "name": "python"
    }
  },
  "cells": [
    {
      "cell_type": "markdown",
      "metadata": {
        "id": "view-in-github",
        "colab_type": "text"
      },
      "source": [
        "<a href=\"https://colab.research.google.com/github/Anonymous390/NNFS-MNIST-with-Convolution/blob/main/MNIST_Detection.ipynb\" target=\"_parent\"><img src=\"https://colab.research.google.com/assets/colab-badge.svg\" alt=\"Open In Colab\"/></a>"
      ]
    },
    {
      "cell_type": "code",
      "source": [
        "!pip install nnfs"
      ],
      "metadata": {
        "colab": {
          "base_uri": "https://localhost:8080/"
        },
        "id": "T1TEFpEaQ5i4",
        "outputId": "4ad7b403-0b39-4cd5-82b1-e1509ccd1191"
      },
      "execution_count": 16,
      "outputs": [
        {
          "output_type": "stream",
          "name": "stdout",
          "text": [
            "Requirement already satisfied: nnfs in /usr/local/lib/python3.11/dist-packages (0.5.1)\n",
            "Requirement already satisfied: numpy in /usr/local/lib/python3.11/dist-packages (from nnfs) (2.0.2)\n"
          ]
        }
      ]
    },
    {
      "cell_type": "markdown",
      "source": [
        "Imports"
      ],
      "metadata": {
        "id": "LmBlsxxSRkfr"
      }
    },
    {
      "cell_type": "code",
      "execution_count": 17,
      "metadata": {
        "id": "UWYdPz66Qeds"
      },
      "outputs": [],
      "source": [
        "from keras.datasets import mnist\n",
        "from keras.utils import to_categorical\n",
        "import numpy as np\n",
        "import matplotlib.pyplot as plt\n",
        "import nnfs\n",
        "from nnfs.datasets import spiral_data\n",
        "import os\n",
        "from PIL import Image\n",
        "import cv2"
      ]
    },
    {
      "cell_type": "markdown",
      "source": [
        "Load Training and Testing Data"
      ],
      "metadata": {
        "id": "NTFc_17wRmy5"
      }
    },
    {
      "cell_type": "code",
      "source": [
        "(X_train, y_train), (X_test, y_test) = mnist.load_data()\n",
        "\n",
        "X_train = X_train.astype('float32') / 255.0\n",
        "X_test = X_test.astype('float32') / 255.0\n",
        "\n",
        "# X_train = X_train.reshape(X_train.shape[0], -1)\n",
        "# Reshape to include channel dimension (for Conv2D)\n",
        "X_train = X_train.reshape(-1, 28, 28, 1)  # Shape: (60000, 28, 28, 1)\n",
        "X_test = X_test.reshape(-1, 28, 28, 1)     # Shape: (10000, 28, 28, 1)\n",
        "\n",
        "y_train = to_categorical(y_train, num_classes=10)\n",
        "y_test = to_categorical(y_test, num_classes=10)\n",
        "\n",
        "print(\"Training data shape:\", X_train.shape)\n",
        "print(\"Test data shape:\", X_test.shape)"
      ],
      "metadata": {
        "colab": {
          "base_uri": "https://localhost:8080/"
        },
        "id": "moAB98hcROCQ",
        "outputId": "266cf8f3-a7d6-4919-823c-5fefa4d9a2bf"
      },
      "execution_count": 18,
      "outputs": [
        {
          "output_type": "stream",
          "name": "stdout",
          "text": [
            "Training data shape: (60000, 28, 28, 1)\n",
            "Test data shape: (10000, 28, 28, 1)\n"
          ]
        }
      ]
    },
    {
      "cell_type": "markdown",
      "source": [
        "Neural Network Classes"
      ],
      "metadata": {
        "id": "G8WHjJMVR0ZF"
      }
    },
    {
      "cell_type": "code",
      "source": [
        "class Layer:\n",
        "    def __init__(self, n_inputs, n_neurons):\n",
        "        self.weights = 0.01 * np.random.randn(n_inputs, n_neurons)\n",
        "        self.biases = np.zeros((1, n_neurons))\n",
        "    def forward(self, inputs):\n",
        "        self.output = np.dot(inputs, self.weights) + self.biases\n",
        "        self.inputs = inputs\n",
        "    def backward(self, dvalues):\n",
        "        self.dweights = np.dot(self.inputs.T, dvalues)\n",
        "        self.dbiases = np.sum(dvalues, axis=0, keepdims=True)\n",
        "        self.dinputs = np.dot(dvalues, self.weights.T)\n",
        "\n",
        "class Activation_ReLU:\n",
        "    def __init__(self):\n",
        "        pass\n",
        "    def forward(self, inputs):\n",
        "        self.output = np.maximum(0, inputs)\n",
        "        self.inputs = inputs\n",
        "    def backward(self, dvalues):\n",
        "        self.dinputs = dvalues.copy()\n",
        "\n",
        "        self.dinputs[self.inputs <= 0] = 0\n",
        "\n",
        "class Activation_Softmax:\n",
        "    def __init__(self):\n",
        "        pass\n",
        "    def forward(self, inputs):\n",
        "        exp_values = np.exp(inputs - np.max(inputs, axis=1, keepdims=True))\n",
        "        prob_dist = exp_values / np.sum(exp_values, axis=1, keepdims=True)\n",
        "        self.output = prob_dist\n",
        "\n",
        "class Loss:\n",
        "    def __init__(self):\n",
        "        pass\n",
        "    def calculate(self, output, y):\n",
        "        sample_losses = self.forward(output, y)\n",
        "        data_loss = np.mean(sample_losses)\n",
        "        return data_loss\n",
        "\n",
        "class Loss_categorical_cross_entropy(Loss):\n",
        "    def __init__(self):\n",
        "        pass\n",
        "    def forward(self, y_pred, y_true):\n",
        "        samples = len(y_pred)\n",
        "        y_pred_clipped = np.clip(y_pred, 1e-7, 1-1e-7)\n",
        "\n",
        "        if len(y_true.shape) == 1:\n",
        "            correct_confidences = y_pred_clipped[range(samples), y_true]\n",
        "        elif len(y_true.shape) == 2:\n",
        "            correct_confidences = np.sum(y_pred*y_true, axis=1)\n",
        "\n",
        "        neg_log = -np.log(correct_confidences)\n",
        "        return neg_log\n",
        "\n",
        "class Activation_Softmax_Loss(Loss):\n",
        "    def __init__(self):\n",
        "        super().__init__()\n",
        "        self.activation = Activation_Softmax()\n",
        "        self.loss = Loss_categorical_cross_entropy()\n",
        "\n",
        "    def forward(self, inputs, y_true):\n",
        "        self.activation.forward(inputs)\n",
        "        self.output = self.activation.output\n",
        "        return self.loss.calculate(self.output, y_true)\n",
        "\n",
        "    def backward(self, dvalues, y_true):\n",
        "        samples = len(dvalues)\n",
        "\n",
        "        if len(y_true.shape) == 2:\n",
        "            y_true = np.argmax(y_true, axis=1)\n",
        "\n",
        "        self.dinputs = dvalues.copy()\n",
        "\n",
        "        self.dinputs[range(samples), y_true] -= 1\n",
        "        self.dinputs = self.dinputs / samples\n"
      ],
      "metadata": {
        "id": "8YQxvVvjR0rb"
      },
      "execution_count": 19,
      "outputs": []
    },
    {
      "cell_type": "markdown",
      "source": [
        "Conv Neural Network"
      ],
      "metadata": {
        "id": "iRfAaCLSfXZ8"
      }
    },
    {
      "cell_type": "code",
      "source": [
        "class Conv2D:\n",
        "    def __init__(self, filters, kernel_size=3, stride=1, padding=0, in_channels=1):\n",
        "        self.filters = filters\n",
        "        self.kernel_size = kernel_size\n",
        "        self.stride = stride\n",
        "        self.padding = padding\n",
        "\n",
        "        # Xavier/He initialization\n",
        "        fan_in = kernel_size * kernel_size * in_channels\n",
        "        self.weights = np.random.randn(\n",
        "            kernel_size, kernel_size, in_channels, filters\n",
        "        ) * np.sqrt(2.0 / fan_in)\n",
        "\n",
        "        self.biases = np.zeros(filters)\n",
        "        self.inputs = None\n",
        "        self.padded_inputs = None\n",
        "\n",
        "    def im2col(self, inputs):\n",
        "        batch_size, in_h, in_w, in_c = inputs.shape\n",
        "\n",
        "        if self.padding > 0:\n",
        "            inputs = np.pad(inputs, ((0,0), (self.padding,self.padding),\n",
        "                           (self.padding,self.padding), (0,0)), mode='constant')\n",
        "            in_h += 2 * self.padding\n",
        "            in_w += 2 * self.padding\n",
        "\n",
        "        self.padded_inputs = inputs\n",
        "\n",
        "        # Calculate output dimensions\n",
        "        out_h = (in_h - self.kernel_size) // self.stride + 1\n",
        "        out_w = (in_w - self.kernel_size) // self.stride + 1\n",
        "\n",
        "        # Create column matrix\n",
        "        col = np.zeros((batch_size * out_h * out_w, self.kernel_size * self.kernel_size * in_c))\n",
        "\n",
        "        for y in range(self.kernel_size):\n",
        "            y_max = y + self.stride * out_h\n",
        "            for x in range(self.kernel_size):\n",
        "                x_max = x + self.stride * out_w\n",
        "                for c in range(in_c):\n",
        "                    col[:, (y * self.kernel_size + x) * in_c + c] = \\\n",
        "                        inputs[:, y:y_max:self.stride, x:x_max:self.stride, c].ravel()\n",
        "\n",
        "        return col, out_h, out_w\n",
        "\n",
        "    def forward(self, inputs):\n",
        "        self.inputs = inputs\n",
        "        batch_size, in_h, in_w, in_c = inputs.shape\n",
        "\n",
        "        # Update weights shape based on actual input channels\n",
        "        if self.weights.shape[2] != in_c:\n",
        "            fan_in = self.kernel_size * self.kernel_size * in_c\n",
        "            self.weights = np.random.randn(\n",
        "                self.kernel_size, self.kernel_size, in_c, self.filters\n",
        "            ) * np.sqrt(2.0 / fan_in)\n",
        "\n",
        "        # Convert to column format\n",
        "        col, out_h, out_w = self.im2col(inputs)\n",
        "\n",
        "        W_col = self.weights.reshape(-1, self.filters)\n",
        "\n",
        "        output = np.dot(col, W_col) + self.biases\n",
        "\n",
        "        self.output = output.reshape(batch_size, out_h, out_w, self.filters)\n",
        "\n",
        "        return self.output\n",
        "\n",
        "    def col2im(self, col, input_shape):\n",
        "        batch_size, in_h, in_w, in_c = input_shape\n",
        "\n",
        "        # Add padding to input shape\n",
        "        if self.padding > 0:\n",
        "            in_h += 2 * self.padding\n",
        "            in_w += 2 * self.padding\n",
        "\n",
        "        # Calculate output dimensions\n",
        "        out_h = (in_h - self.kernel_size) // self.stride + 1\n",
        "        out_w = (in_w - self.kernel_size) // self.stride + 1\n",
        "\n",
        "        # Initialize output\n",
        "        img = np.zeros((batch_size, in_h, in_w, in_c))\n",
        "\n",
        "        for y in range(self.kernel_size):\n",
        "            y_max = y + self.stride * out_h\n",
        "            for x in range(self.kernel_size):\n",
        "                x_max = x + self.stride * out_w\n",
        "                for c in range(in_c):\n",
        "                    img[:, y:y_max:self.stride, x:x_max:self.stride, c] += \\\n",
        "                        col[:, (y * self.kernel_size + x) * in_c + c].reshape(batch_size, out_h, out_w)\n",
        "\n",
        "        return img\n",
        "\n",
        "    def backward(self, dvalues):\n",
        "        batch_size, out_h, out_w, out_c = dvalues.shape\n",
        "\n",
        "        # Flatten dvalues\n",
        "        dvalues_flat = dvalues.reshape(-1, self.filters)\n",
        "\n",
        "        # Get column representation of inputs\n",
        "        col, _, _ = self.im2col(self.inputs)\n",
        "\n",
        "        # Compute gradients\n",
        "        self.dweights = np.dot(col.T, dvalues_flat).reshape(self.weights.shape)\n",
        "        self.dbiases = np.sum(dvalues_flat, axis=0)\n",
        "\n",
        "        # Compute input gradients\n",
        "        W_col = self.weights.reshape(-1, self.filters)\n",
        "        dcol = np.dot(dvalues_flat, W_col.T)\n",
        "\n",
        "        # Convert back to image format\n",
        "        dinputs_padded = self.col2im(dcol, self.inputs.shape)\n",
        "\n",
        "        # Remove padding if it was added\n",
        "        if self.padding > 0:\n",
        "            self.dinputs = dinputs_padded[:, self.padding:-self.padding,\n",
        "                                        self.padding:-self.padding, :]\n",
        "        else:\n",
        "            self.dinputs = dinputs_padded\n",
        "\n",
        "        return self.dinputs"
      ],
      "metadata": {
        "id": "y6FI1dNyfVku"
      },
      "execution_count": 20,
      "outputs": []
    },
    {
      "cell_type": "markdown",
      "source": [
        "MaxPooling Layer"
      ],
      "metadata": {
        "id": "ReI1ISLnHm2f"
      }
    },
    {
      "cell_type": "code",
      "source": [
        "class MaxPool2D:\n",
        "    def __init__(self, pool_size=2, stride=2):\n",
        "        self.pool_size = pool_size\n",
        "        self.stride = stride\n",
        "        self.inputs = None\n",
        "        self.mask = None\n",
        "        self.output = None\n",
        "\n",
        "    def forward(self, inputs):\n",
        "        self.inputs = inputs\n",
        "        batch_size, in_h, in_w, in_c = inputs.shape\n",
        "\n",
        "        out_h = (in_h - self.pool_size) // self.stride + 1\n",
        "        out_w = (in_w - self.pool_size) // self.stride + 1\n",
        "\n",
        "        # Reshape input for pooling\n",
        "        reshaped = inputs[:, :out_h*self.stride, :out_w*self.stride, :].copy()\n",
        "        reshaped = reshaped.reshape(batch_size, out_h, self.stride, out_w, self.stride, in_c)\n",
        "        reshaped = reshaped.transpose(0, 1, 3, 5, 2, 4)\n",
        "        reshaped = reshaped.reshape(batch_size, out_h, out_w, in_c, -1)\n",
        "\n",
        "        # Find max and create mask\n",
        "        self.output = np.max(reshaped, axis=-1)\n",
        "        max_indices = np.argmax(reshaped, axis=-1)\n",
        "\n",
        "        # Create mask for backward pass\n",
        "        self.mask = np.zeros_like(reshaped, dtype=bool)\n",
        "        batch_idx, h_idx, w_idx, c_idx = np.indices(max_indices.shape)\n",
        "        self.mask[batch_idx, h_idx, w_idx, c_idx, max_indices] = True\n",
        "\n",
        "        return self.output\n",
        "\n",
        "    def backward(self, dvalues):\n",
        "        batch_size, out_h, out_w, in_c = dvalues.shape\n",
        "\n",
        "        # Expand gradients using mask\n",
        "        expanded_grad = np.zeros_like(self.mask, dtype=np.float32)\n",
        "        expanded_grad[self.mask] = dvalues.ravel()\n",
        "\n",
        "        # Reshape back to input shape\n",
        "        expanded_grad = expanded_grad.reshape(batch_size, out_h, out_w, in_c, self.stride, self.stride)\n",
        "        expanded_grad = expanded_grad.transpose(0, 1, 4, 2, 5, 3)\n",
        "        self.dinputs = expanded_grad.reshape(batch_size, out_h*self.stride, out_w*self.stride, in_c)\n",
        "\n",
        "        # Pad if necessary to match input shape\n",
        "        if self.dinputs.shape != self.inputs.shape:\n",
        "            pad_h = self.inputs.shape[1] - self.dinputs.shape[1]\n",
        "            pad_w = self.inputs.shape[2] - self.dinputs.shape[2]\n",
        "            self.dinputs = np.pad(self.dinputs, ((0,0), (0,pad_h), (0,pad_w), (0,0)))\n",
        "\n",
        "        return self.dinputs"
      ],
      "metadata": {
        "id": "ADFLdLcoHmcL"
      },
      "execution_count": 21,
      "outputs": []
    },
    {
      "cell_type": "markdown",
      "source": [
        "Optimisers"
      ],
      "metadata": {
        "id": "4XwO8q2zeId0"
      }
    },
    {
      "cell_type": "code",
      "source": [
        "class Optimizer_SGD:\n",
        "    def __init__(self, learning_rate=1.0, decay=0., momentum=0.):\n",
        "        self.learning_rate = learning_rate\n",
        "        self.current_learning_rate = learning_rate\n",
        "        self.decay = decay\n",
        "        self.momentum = momentum\n",
        "        self.iterations = 0\n",
        "\n",
        "    def pre_update_params(self):\n",
        "        if self.decay:\n",
        "            self.current_learning_rate = self.learning_rate * (1. / (1. + self.decay * self.iterations))\n",
        "\n",
        "    def update_params(self, layer):\n",
        "        if self.momentum:\n",
        "\n",
        "            if not hasattr(layer, 'weight_momentums'):\n",
        "                layer.weight_momentums = np.zeros_like(layer.weights)\n",
        "                layer.bias_momentums = np.zeros_like(layer.biases)\n",
        "\n",
        "            weight_updates = self.momentum * layer.weight_momentums - self.learning_rate * layer.dweights\n",
        "            layer.weight_momentums = weight_updates\n",
        "\n",
        "            bias_updates = self.momentum * layer.bias_momentums - self.learning_rate * layer.dbiases\n",
        "            layer.bias_momentums = bias_updates\n",
        "        else:\n",
        "            weight_updates = -self.learning_rate * layer.dweights\n",
        "            bias_updates = -self.learning_rate * layer.dbiases\n",
        "\n",
        "\n",
        "        layer.weights += weight_updates\n",
        "        layer.biases += bias_updates\n",
        "\n",
        "    def post_update_params(self):\n",
        "        self.iterations += 1"
      ],
      "metadata": {
        "id": "zoNG_aTseIEE"
      },
      "execution_count": 22,
      "outputs": []
    },
    {
      "cell_type": "markdown",
      "source": [
        "Creating My Model"
      ],
      "metadata": {
        "id": "GamyR09kSlA9"
      }
    },
    {
      "cell_type": "code",
      "source": [
        "conv1 = Conv2D(filters=32, kernel_size=3, padding=1)\n",
        "activation1 = Activation_ReLU()\n",
        "\n",
        "pool1 = MaxPool2D(pool_size=2, stride=2)\n",
        "\n",
        "flatten = lambda x: x.reshape(x.shape[0], -1)\n",
        "\n",
        "layer1 = Layer(14*14*32, 128)\n",
        "activation2 = Activation_ReLU()\n",
        "\n",
        "layer2 = Layer(128, 10)\n",
        "softmax2 = Activation_Softmax()\n",
        "\n",
        "loss_func = Activation_Softmax_Loss()\n",
        "\n",
        "optimizer = Optimizer_SGD(learning_rate=.1, decay=1e-3, momentum=0.9)"
      ],
      "metadata": {
        "id": "46NEJF6OSmrj"
      },
      "execution_count": 24,
      "outputs": []
    },
    {
      "cell_type": "markdown",
      "source": [
        "Forward Pass"
      ],
      "metadata": {
        "id": "k94g1kxDhCRg"
      }
    },
    {
      "cell_type": "code",
      "source": [
        "def forward_pass(X_batch, y_true):\n",
        "    conv1.forward(X_batch)\n",
        "    activation1.forward(conv1.output)\n",
        "    pool1.forward(activation1.output)\n",
        "\n",
        "    flatten_output = pool1.output.reshape(X_batch.shape[0], -1)\n",
        "    layer1.forward(flatten_output)\n",
        "    activation2.forward(layer1.output)\n",
        "    layer2.forward(activation2.output)\n",
        "    loss = loss_func.forward(layer2.output, y_true)\n",
        "\n",
        "    return loss"
      ],
      "metadata": {
        "id": "S9CRLMBMhB93"
      },
      "execution_count": 25,
      "outputs": []
    },
    {
      "cell_type": "markdown",
      "source": [
        "Backward Pass"
      ],
      "metadata": {
        "id": "zzi1PJa5hnQm"
      }
    },
    {
      "cell_type": "code",
      "source": [
        "def backward_pass(dvalues, y_batch):\n",
        "    loss_func.backward(dvalues, y_batch)\n",
        "    layer2.backward(loss_func.dinputs)\n",
        "    activation2.backward(layer2.dinputs)\n",
        "    layer1.backward(activation2.dinputs)\n",
        "\n",
        "    pool_grad = layer1.dinputs.reshape(\n",
        "        pool1.output.shape[0],  # batch\n",
        "        pool1.output.shape[1],  # height\n",
        "        pool1.output.shape[2],  # width\n",
        "        pool1.output.shape[3]   # channels\n",
        "    )\n",
        "    pool1.backward(pool_grad)\n",
        "    activation1.backward(pool1.dinputs)\n",
        "    conv1.backward(activation1.dinputs)"
      ],
      "metadata": {
        "id": "p3LqmsrVhoYd"
      },
      "execution_count": 26,
      "outputs": []
    },
    {
      "cell_type": "markdown",
      "source": [
        "Training My Model"
      ],
      "metadata": {
        "id": "AKTm3ATrSoVn"
      }
    },
    {
      "cell_type": "code",
      "source": [
        "accuracy = 0\n",
        "loss = 1\n",
        "\n",
        "batch_size = 64\n",
        "num_epochs = 5\n",
        "\n",
        "for epoch in range(1, num_epochs + 1):\n",
        "    permutation = np.random.permutation(X_train.shape[0])\n",
        "    X_train_shuffled = X_train[permutation]\n",
        "    y_train_shuffled = y_train[permutation]\n",
        "\n",
        "    epoch_loss = 0.0\n",
        "    epoch_accuracy = 0.0\n",
        "    num_batches = X_train.shape[0] // batch_size\n",
        "\n",
        "    for batch_idx in range(num_batches):\n",
        "        # Get batch\n",
        "        start = batch_idx * batch_size\n",
        "        end = start + batch_size\n",
        "        X_batch = X_train_shuffled[start:end]\n",
        "        y_batch = y_train_shuffled[start:end]\n",
        "\n",
        "        # Forward pass\n",
        "        loss = forward_pass(X_batch, y_batch)\n",
        "\n",
        "\n",
        "        # Calculate accuracy\n",
        "        predictions = np.argmax(layer2.output, axis=1)\n",
        "        true_labels = np.argmax(y_batch, axis=1) if len(y_batch.shape) == 2 else y_batch\n",
        "        batch_accuracy = np.mean(predictions == true_labels)\n",
        "\n",
        "        # Backward pass\n",
        "        backward_pass(loss_func.output, y_batch)\n",
        "        # Update weights\n",
        "        optimizer.pre_update_params()\n",
        "        optimizer.update_params(layer2)\n",
        "        optimizer.update_params(layer1)\n",
        "        # Update weights for the Conv2D layer\n",
        "        optimizer.update_params(conv1)\n",
        "        optimizer.post_update_params()\n",
        "\n",
        "        epoch_loss += loss\n",
        "        epoch_accuracy += batch_accuracy\n",
        "\n",
        "    avg_loss = epoch_loss / num_batches\n",
        "    avg_accuracy = epoch_accuracy / num_batches\n",
        "    print(f\"Epoch {epoch}: Loss = {avg_loss:.4f}, Accuracy = {avg_accuracy:.4f}\")"
      ],
      "metadata": {
        "colab": {
          "base_uri": "https://localhost:8080/"
        },
        "id": "JNs7rXhRSx2b",
        "outputId": "ad4fef4c-a8ae-4012-fb39-a328a2939b8f"
      },
      "execution_count": 27,
      "outputs": [
        {
          "output_type": "stream",
          "name": "stdout",
          "text": [
            "Epoch 1: Loss = 0.1584, Accuracy = 0.9499\n",
            "Epoch 2: Loss = 0.0506, Accuracy = 0.9840\n",
            "Epoch 3: Loss = 0.0279, Accuracy = 0.9909\n",
            "Epoch 4: Loss = 0.0181, Accuracy = 0.9941\n",
            "Epoch 5: Loss = 0.0109, Accuracy = 0.9964\n"
          ]
        }
      ]
    },
    {
      "cell_type": "markdown",
      "source": [
        "Testing My Model"
      ],
      "metadata": {
        "id": "eNWHHU6AS4Zx"
      }
    },
    {
      "cell_type": "code",
      "source": [
        "X_test = X_test.reshape(-1, 28, 28, 1)\n",
        "print(X_test.shape)\n",
        "loss = forward_pass(X_test, y_test)\n",
        "\n",
        "test_predictions = np.argmax(loss_func.output, axis=1)\n",
        "test_true = np.argmax(y_test, axis=1)\n",
        "test_accuracy = np.mean(test_predictions == test_true)\n",
        "print(test_predictions[17])\n",
        "plt.imshow(X_test[17], cmap=\"gray\")\n",
        "plt.axis('off')\n",
        "plt.show()\n",
        "print(f\"Test Accuracy: {test_accuracy:.4f}\")"
      ],
      "metadata": {
        "id": "GzuXbGeVS6Li",
        "colab": {
          "base_uri": "https://localhost:8080/",
          "height": 461
        },
        "outputId": "1cde56f3-fc52-4932-acaa-e6be65a8a5ba"
      },
      "execution_count": 28,
      "outputs": [
        {
          "output_type": "stream",
          "name": "stdout",
          "text": [
            "(10000, 28, 28, 1)\n",
            "7\n"
          ]
        },
        {
          "output_type": "display_data",
          "data": {
            "text/plain": [
              "<Figure size 640x480 with 1 Axes>"
            ],
            "image/png": "[encoded data removed]"
          },
          "metadata": {}
        },
        {
          "output_type": "stream",
          "name": "stdout",
          "text": [
            "Test Accuracy: 0.9863\n"
          ]
        }
      ]
    },
    {
      "cell_type": "markdown",
      "source": [
        "Incorrect guesses"
      ],
      "metadata": {
        "id": "MOPSVjmh9Evx"
      }
    },
    {
      "cell_type": "code",
      "source": [
        "incorrect_guesses = np.where(test_predictions != test_true)[0]\n",
        "first_10_incorrect = incorrect_guesses[:10]\n",
        "\n",
        "for idx in first_10_incorrect:\n",
        "    plt.imshow(X_test[idx], cmap=\"gray\")\n",
        "    plt.axis('off')\n",
        "    plt.show()\n",
        "\n",
        "    print(f\"Predicted: {test_predictions[idx]}, True: {test_true[idx]}\")"
      ],
      "metadata": {
        "colab": {
          "base_uri": "https://localhost:8080/",
          "height": 1000
        },
        "collapsed": true,
        "id": "hEXkr_vg9EIa",
        "outputId": "bce83125-c182-4998-b64d-1f05c81cc40e"
      },
      "execution_count": 29,
      "outputs": [
        {
          "output_type": "display_data",
          "data": {
            "text/plain": [
              "<Figure size 640x480 with 1 Axes>"
            ],
            "image/png": "[encoded data removed]"
          },
          "metadata": {}
        },
        {
          "output_type": "stream",
          "name": "stdout",
          "text": [
            "Predicted: 6, True: 5\n"
          ]
        },
        {
          "output_type": "display_data",
          "data": {
            "text/plain": [
              "<Figure size 640x480 with 1 Axes>"
            ],
            "image/png": "[encoded data removed]"
          },
          "metadata": {}
        },
        {
          "output_type": "stream",
          "name": "stdout",
          "text": [
            "Predicted: 2, True: 4\n"
          ]
        },
        {
          "output_type": "display_data",
          "data": {
            "text/plain": [
              "<Figure size 640x480 with 1 Axes>"
            ],
            "image/png": "[encoded data removed]"
          },
          "metadata": {}
        },
        {
          "output_type": "stream",
          "name": "stdout",
          "text": [
            "Predicted: 7, True: 2\n"
          ]
        },
        {
          "output_type": "display_data",
          "data": {
            "text/plain": [
              "<Figure size 640x480 with 1 Axes>"
            ],
            "image/png": "[encoded data removed]"
          },
          "metadata": {}
        },
        {
          "output_type": "stream",
          "name": "stdout",
          "text": [
            "Predicted: 3, True: 5\n"
          ]
        },
        {
          "output_type": "display_data",
          "data": {
            "text/plain": [
              "<Figure size 640x480 with 1 Axes>"
            ],
            "image/png": "[encoded data removed]"
          },
          "metadata": {}
        },
        {
          "output_type": "stream",
          "name": "stdout",
          "text": [
            "Predicted: 0, True: 6\n"
          ]
        },
        {
          "output_type": "display_data",
          "data": {
            "text/plain": [
              "<Figure size 640x480 with 1 Axes>"
            ],
            "image/png": "[encoded data removed]"
          },
          "metadata": {}
        },
        {
          "output_type": "stream",
          "name": "stdout",
          "text": [
            "Predicted: 5, True: 3\n"
          ]
        },
        {
          "output_type": "display_data",
          "data": {
            "text/plain": [
              "<Figure size 640x480 with 1 Axes>"
            ],
            "image/png": "[encoded data removed]"
          },
          "metadata": {}
        },
        {
          "output_type": "stream",
          "name": "stdout",
          "text": [
            "Predicted: 2, True: 8\n"
          ]
        },
        {
          "output_type": "display_data",
          "data": {
            "text/plain": [
              "<Figure size 640x480 with 1 Axes>"
            ],
            "image/png": "[encoded data removed]"
          },
          "metadata": {}
        },
        {
          "output_type": "stream",
          "name": "stdout",
          "text": [
            "Predicted: 7, True: 2\n"
          ]
        },
        {
          "output_type": "display_data",
          "data": {
            "text/plain": [
              "<Figure size 640x480 with 1 Axes>"
            ],
            "image/png": "[encoded data removed]"
          },
          "metadata": {}
        },
        {
          "output_type": "stream",
          "name": "stdout",
          "text": [
            "Predicted: 5, True: 7\n"
          ]
        },
        {
          "output_type": "display_data",
          "data": {
            "text/plain": [
              "<Figure size 640x480 with 1 Axes>"
            ],
            "image/png": "[encoded data removed]"
          },
          "metadata": {}
        },
        {
          "output_type": "stream",
          "name": "stdout",
          "text": [
            "Predicted: 8, True: 9\n"
          ]
        }
      ]
    },
    {
      "cell_type": "markdown",
      "source": [
        "Custom Test"
      ],
      "metadata": {
        "id": "i03HhmvorPqa"
      }
    },
    {
      "cell_type": "code",
      "source": [
        "file = \"pred1.png\"\n",
        "test_image = cv2.imread(file, cv2.IMREAD_GRAYSCALE)\n",
        "test_image = cv2.resize(test_image, (28, 28), interpolation=cv2.INTER_LINEAR)\n",
        "test_image = cv2.bitwise_not(test_image)\n",
        "test_image = test_image / 255.0\n",
        "print(test_image.shape)\n",
        "\n",
        "plt.imshow(test_image, cmap=\"gray\")\n",
        "plt.show()\n",
        "\n",
        "img_array = np.array(test_image)"
      ],
      "metadata": {
        "colab": {
          "base_uri": "https://localhost:8080/",
          "height": 448
        },
        "collapsed": true,
        "id": "pZTFWmb09YHs",
        "outputId": "b8f4f7f1-7e3a-4660-88a7-4983ef6d4bb5"
      },
      "execution_count": 30,
      "outputs": [
        {
          "output_type": "stream",
          "name": "stdout",
          "text": [
            "(28, 28)\n"
          ]
        },
        {
          "output_type": "display_data",
          "data": {
            "text/plain": [
              "<Figure size 640x480 with 1 Axes>"
            ],
            "image/png": "[encoded data removed]"
          },
          "metadata": {}
        }
      ]
    },
    {
      "cell_type": "code",
      "source": [
        "img_flattened = img_array.reshape(1,28,28,1)\n",
        "\n",
        "print(img_flattened.shape)\n",
        "\n",
        "conv1.forward(img_flattened)\n",
        "activation1.forward(conv1.output)\n",
        "pool1.forward(activation1.output)\n",
        "\n",
        "flatten_output = pool1.output.reshape(img_flattened.shape[0], -1)\n",
        "layer1.forward(flatten_output)\n",
        "activation2.forward(layer1.output)\n",
        "layer2.forward(activation2.output)\n",
        "softmax2.forward(layer2.output)\n",
        "\n",
        "predicted_class = np.argmax(softmax2.output, axis=1)\n",
        "for i, p in enumerate(softmax2.output[0]):\n",
        "    print(f\"{i}: {(p*100):.6f} %\")\n",
        "print(\"Predicted digit:\", predicted_class[0])\n",
        "plt.imshow(img_array, cmap=\"gray\")\n",
        "plt.axis('off')\n",
        "plt.show()"
      ],
      "metadata": {
        "colab": {
          "base_uri": "https://localhost:8080/",
          "height": 625
        },
        "id": "_hxWEJ2nsPwo",
        "outputId": "9b291da6-1f11-4df9-abbf-56785e0fbd36"
      },
      "execution_count": 36,
      "outputs": [
        {
          "output_type": "stream",
          "name": "stdout",
          "text": [
            "(1, 28, 28, 1)\n",
            "0: 0.000000 %\n",
            "1: 99.999879 %\n",
            "2: 0.000000 %\n",
            "3: 0.000000 %\n",
            "4: 0.000038 %\n",
            "5: 0.000000 %\n",
            "6: 0.000000 %\n",
            "7: 0.000043 %\n",
            "8: 0.000000 %\n",
            "9: 0.000039 %\n",
            "Predicted digit: 1\n"
          ]
        },
        {
          "output_type": "display_data",
          "data": {
            "text/plain": [
              "<Figure size 640x480 with 1 Axes>"
            ],
            "image/png": "[encoded data removed]"
          },
          "metadata": {}
        }
      ]
    },
    {
      "cell_type": "markdown",
      "source": [
        "Saving the Model with weights and bias"
      ],
      "metadata": {
        "id": "i1wOd7nTI1R6"
      }
    },
    {
      "cell_type": "code",
      "source": [
        "class ModelSaver:\n",
        "    @staticmethod\n",
        "    def save_model(conv1, layer1, layer2, optimizer=None, path='model.npz'):\n",
        "        save_dict = {\n",
        "            'conv1_weights': conv1.weights,\n",
        "            'conv1_biases': conv1.biases,\n",
        "            'layer1_weights': layer1.weights,\n",
        "            'layer1_biases': layer1.biases,\n",
        "            'layer2_weights': layer2.weights,\n",
        "            'layer2_biases': layer2.biases\n",
        "        }\n",
        "\n",
        "        # Save optimizer state if provided\n",
        "        if optimizer is not None:\n",
        "            if hasattr(optimizer, 'weight_momentums'):\n",
        "                save_dict['opt_weight_momentums_layer1'] = optimizer.weight_momentums\n",
        "                save_dict['opt_bias_momentums_layer1'] = optimizer.bias_momentums\n",
        "            if hasattr(optimizer, 'iterations'):\n",
        "                save_dict['opt_iterations'] = optimizer.iterations\n",
        "\n",
        "        np.savez(path, **save_dict)\n",
        "        print(f\"✅ Model saved to '{path}'\")\n",
        "\n",
        "    @staticmethod\n",
        "    def load_model(conv1, layer1, layer2, optimizer=None, path='model.npz'):\n",
        "        data = np.load(path)\n",
        "\n",
        "        conv1.weights = data['conv1_weights']\n",
        "        conv1.biases = data['conv1_biases']\n",
        "        layer1.weights = data['layer1_weights']\n",
        "        layer1.biases = data['layer1_biases']\n",
        "        layer2.weights = data['layer2_weights']\n",
        "        layer2.biases = data['layer2_biases']\n",
        "\n",
        "        # Load optimizer state if available\n",
        "        if optimizer is not None:\n",
        "            if 'opt_weight_momentums_layer1' in data:\n",
        "                optimizer.weight_momentums = data['opt_weight_momentums_layer1']\n",
        "                optimizer.bias_momentums = data['opt_bias_momentums_layer1']\n",
        "            if 'opt_iterations' in data:\n",
        "                optimizer.iterations = int(data['opt_iterations'])\n",
        "\n",
        "        print(f\"✅ Model loaded from '{path}'\")"
      ],
      "metadata": {
        "id": "Upkj2ilbcO0Y"
      },
      "execution_count": 33,
      "outputs": []
    },
    {
      "cell_type": "code",
      "source": [
        "saver = ModelSaver()\n",
        "saver.save_model(conv1, layer1, layer2, optimizer)"
      ],
      "metadata": {
        "colab": {
          "base_uri": "https://localhost:8080/"
        },
        "id": "vlclueK8Sqz_",
        "outputId": "1ec8e998-486f-4571-90c4-dbf05e92bbf9"
      },
      "execution_count": 34,
      "outputs": [
        {
          "output_type": "stream",
          "name": "stdout",
          "text": [
            "✅ Model saved to 'model.npz'\n"
          ]
        }
      ]
    }
  ]
}